{
 "cells": [
  {
   "cell_type": "code",
   "execution_count": 4,
   "id": "9cd53c3c-3258-44a4-b4f8-c87c3f76b3ac",
   "metadata": {},
   "outputs": [
    {
     "name": "stdout",
     "output_type": "stream",
     "text": [
      "chương trình đầu tiên xin chào\n"
     ]
    }
   ],
   "source": [
    "print(\"chương trình đầu tiên xin chào\")"
   ]
  },
  {
   "cell_type": "code",
   "execution_count": 6,
   "id": "02e67cf6-b3a1-4d8e-b59a-6680b80ed1fe",
   "metadata": {},
   "outputs": [],
   "source": [
    "a=3"
   ]
  },
  {
   "cell_type": "code",
   "execution_count": 8,
   "id": "0579efc0-d2a5-405d-98e6-63676deb4d4e",
   "metadata": {},
   "outputs": [],
   "source": [
    "b=2"
   ]
  },
  {
   "cell_type": "code",
   "execution_count": 18,
   "id": "8ea9dc73-f322-471f-93c6-c572829d2105",
   "metadata": {},
   "outputs": [
    {
     "name": "stdout",
     "output_type": "stream",
     "text": [
      "1.5\n"
     ]
    }
   ],
   "source": [
    "c=a/b\n",
    "print(c)"
   ]
  },
  {
   "cell_type": "code",
   "execution_count": 20,
   "id": "54d5690c-15f8-4e22-9939-9eda6cf96394",
   "metadata": {},
   "outputs": [
    {
     "name": "stdout",
     "output_type": "stream",
     "text": [
      "3.12.7 | packaged by Anaconda, Inc. | (main, Oct  4 2024, 13:17:27) [MSC v.1929 64 bit (AMD64)]\n"
     ]
    }
   ],
   "source": [
    "import sys\n",
    "print(sys.version)"
   ]
  },
  {
   "cell_type": "code",
   "execution_count": 29,
   "id": "5b1ecac7-4a65-4117-868a-34cca270d97e",
   "metadata": {},
   "outputs": [
    {
     "name": "stdout",
     "output_type": "stream",
     "text": [
      "five greater than two\n"
     ]
    }
   ],
   "source": [
    "if 5>2:\n",
    " print(\"five greater than two\")"
   ]
  },
  {
   "cell_type": "code",
   "execution_count": 35,
   "id": "838195f9-1ba0-4c23-a946-72b616489d73",
   "metadata": {},
   "outputs": [
    {
     "name": "stdout",
     "output_type": "stream",
     "text": [
      "five greater than two\n"
     ]
    }
   ],
   "source": [
    "if 5>3:\n",
    "           print(\"five greater than two\")"
   ]
  },
  {
   "cell_type": "code",
   "execution_count": 39,
   "id": "503cb703-b522-42ac-b504-961a0ce3759a",
   "metadata": {
    "scrolled": true
   },
   "outputs": [
    {
     "ename": "IndentationError",
     "evalue": "unexpected indent (3305852326.py, line 3)",
     "output_type": "error",
     "traceback": [
      "\u001b[1;36m  Cell \u001b[1;32mIn[39], line 3\u001b[1;36m\u001b[0m\n\u001b[1;33m    print(two less than five)\u001b[0m\n\u001b[1;37m    ^\u001b[0m\n\u001b[1;31mIndentationError\u001b[0m\u001b[1;31m:\u001b[0m unexpected indent\n"
     ]
    }
   ],
   "source": [
    "if 5>2:\n",
    "    print(\"five greater than two\")\n",
    "       print(two less than five)"
   ]
  },
  {
   "cell_type": "code",
   "execution_count": 59,
   "id": "fc6bd07e-347d-43d4-800f-2d1302c1014c",
   "metadata": {},
   "outputs": [
    {
     "name": "stdout",
     "output_type": "stream",
     "text": [
      "five greater than two\n",
      "two less than five\n"
     ]
    },
    {
     "data": {
      "text/plain": [
       "'\\nPhần này để ghi chú nhiều dòng\\nKhi ghi 1 dòng không đủ\\n'"
      ]
     },
     "execution_count": 59,
     "metadata": {},
     "output_type": "execute_result"
    }
   ],
   "source": [
    "if 5>2:\n",
    " print(\"five greater than two\")\n",
    " print(\"two less than five\")  \n",
    "# phải sử dụng cùng 1 khoảng trắng trong 1 khối mã để không bị lỗi\n"
   ]
  },
  {
   "cell_type": "code",
   "execution_count": 63,
   "id": "bc2c00cc-0e10-4d3c-8551-f8ac67e05847",
   "metadata": {},
   "outputs": [
    {
     "name": "stdout",
     "output_type": "stream",
     "text": [
      "kiểm tra ghi chú nhiều dòng trong cặp 3 dấu ngoặc kép\n"
     ]
    }
   ],
   "source": [
    "\"\"\"\n",
    "Phần này để ghi chú nhiều dòng\n",
    "Khi ghi 1 dòng không đủ\n",
    "avc\n",
    "\n",
    "\"\"\"\n",
    "print(\"kiểm tra ghi chú nhiều dòng trong cặp 3 dấu ngoặc kép\")"
   ]
  },
  {
   "cell_type": "code",
   "execution_count": null,
   "id": "9190412b-3ebd-48b7-96d9-d1a7a3d8562f",
   "metadata": {},
   "outputs": [],
   "source": []
  }
 ],
 "metadata": {
  "kernelspec": {
   "display_name": "Python [conda env:base] *",
   "language": "python",
   "name": "conda-base-py"
  },
  "language_info": {
   "codemirror_mode": {
    "name": "ipython",
    "version": 3
   },
   "file_extension": ".py",
   "mimetype": "text/x-python",
   "name": "python",
   "nbconvert_exporter": "python",
   "pygments_lexer": "ipython3",
   "version": "3.12.7"
  }
 },
 "nbformat": 4,
 "nbformat_minor": 5
}
